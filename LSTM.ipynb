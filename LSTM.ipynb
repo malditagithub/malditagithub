{
  "nbformat": 4,
  "nbformat_minor": 0,
  "metadata": {
    "colab": {
      "provenance": [],
      "authorship_tag": "ABX9TyMRj4IzsIhi9jQmmSfs/O6u",
      "include_colab_link": true
    },
    "kernelspec": {
      "name": "python3",
      "display_name": "Python 3"
    },
    "language_info": {
      "name": "python"
    }
  },
  "cells": [
    {
      "cell_type": "markdown",
      "metadata": {
        "id": "view-in-github",
        "colab_type": "text"
      },
      "source": [
        "<a href=\"https://colab.research.google.com/github/malditagithub/malditagithub/blob/main/LSTM.ipynb\" target=\"_parent\"><img src=\"https://colab.research.google.com/assets/colab-badge.svg\" alt=\"Open In Colab\"/></a>"
      ]
    },
    {
      "cell_type": "markdown",
      "source": [],
      "metadata": {
        "id": "yIudSGhl3TxQ"
      }
    },
    {
      "cell_type": "code",
      "execution_count": 2,
      "metadata": {
        "id": "DHOG_QBZ7D-_"
      },
      "outputs": [],
      "source": [
        "import math"
      ]
    },
    {
      "cell_type": "code",
      "source": [
        "#value of e is constant (euhler's number)\n",
        "print(math.e)"
      ],
      "metadata": {
        "colab": {
          "base_uri": "https://localhost:8080/"
        },
        "id": "3jQXXAxh7K19",
        "outputId": "5fc6b5dc-3933-4a9b-ce0d-3b24c8a2ee89"
      },
      "execution_count": null,
      "outputs": [
        {
          "output_type": "stream",
          "name": "stdout",
          "text": [
            "2.718281828459045\n"
          ]
        }
      ]
    },
    {
      "cell_type": "code",
      "source": [
        "#computing the TanH value\n",
        "math.tanh(2.96)"
      ],
      "metadata": {
        "colab": {
          "base_uri": "https://localhost:8080/"
        },
        "id": "WEjqy0WJ_Byh",
        "outputId": "0741ad94-1de7-4d4a-8964-0a257113b5c3"
      },
      "execution_count": null,
      "outputs": [
        {
          "output_type": "execute_result",
          "data": {
            "text/plain": [
              "0.9946439816275737"
            ]
          },
          "metadata": {},
          "execution_count": 14
        }
      ]
    },
    {
      "cell_type": "code",
      "source": [
        "#Computing Sigmoid Function\n",
        "import scipy.special\n",
        "from scipy.special import expit"
      ],
      "metadata": {
        "id": "5sPnScA4DJFI"
      },
      "execution_count": 3,
      "outputs": []
    },
    {
      "cell_type": "code",
      "source": [
        "#calculate sigmoid function for x\n",
        "expit(0.4)"
      ],
      "metadata": {
        "colab": {
          "base_uri": "https://localhost:8080/"
        },
        "id": "Ac-2Y-xgC44I",
        "outputId": "497ec6e9-3ccb-47f3-d42a-e53a317171a3"
      },
      "execution_count": 4,
      "outputs": [
        {
          "output_type": "execute_result",
          "data": {
            "text/plain": [
              "0.598687660112452"
            ]
          },
          "metadata": {},
          "execution_count": 4
        }
      ]
    },
    {
      "cell_type": "code",
      "source": [
        "import numpy as np\n",
        "from sklearn.preprocessing import MinMaxScaler\n",
        "from tensorflow.keras.models import Sequential\n",
        "from tensorflow.keras.layers import Dense, LSTM\n",
        "\n",
        "# Sample Data. Intent is to predict the 5th day value which is equal to 0\n",
        "\n",
        "# Sequential data for 5 days\n",
        "data = np.array([0, 0.5, 0.25, 1, 0])\n",
        "\n",
        "# Normalize the data (though in this case it's already normalized between 0 and 1)\n",
        "scaler = MinMaxScaler(feature_range=(0, 1))\n",
        "scaled_data = scaler.fit_transform(data.reshape(-1, 1))\n",
        "\n",
        "# Prepare the input (X) and output (y) data for the LSTM model\n",
        "time_step = 4  # Use the previous 4 days to predict the 5th day\n",
        "X = []\n",
        "y = []\n",
        "\n",
        "# Create the sequence for the LSTM\n",
        "for i in range(len(scaled_data) - time_step):\n",
        "    X.append(scaled_data[i:(i + time_step), 0])\n",
        "    y.append(scaled_data[i + time_step, 0])\n",
        "\n",
        "X = np.array(X)\n",
        "y = np.array(y)\n",
        "\n",
        "# Reshape input to be [samples, time steps, features] which is required for LSTM\n",
        "X = X.reshape(X.shape[0], X.shape[1], 1)\n",
        "\n",
        "# Build the LSTM model\n",
        "model = Sequential()\n",
        "model.add(LSTM(50, return_sequences=False, input_shape=(time_step, 1)))  # LSTM layer with 50 units\n",
        "model.add(Dense(1))  # Dense layer with 1 unit for the output\n",
        "\n",
        "# Compile the model\n",
        "model.compile(optimizer='adam', loss='mean_squared_error')\n",
        "\n",
        "# Train the model\n",
        "model.fit(X, y, epochs=100, batch_size=1, verbose=0)  # epochs=100 for training iterations, batch_size=1 for stochastic gradient descent\n",
        "\n",
        "# Use the model to predict the 5th day's value\n",
        "predicted_scaled_value = model.predict(X)\n",
        "predicted_value = scaler.inverse_transform(predicted_scaled_value)\n",
        "\n",
        "# Print the predicted value for the 5th day\n",
        "print(f'Predicted value for the 5th day: {predicted_value[-1][0]}')\n"
      ],
      "metadata": {
        "colab": {
          "base_uri": "https://localhost:8080/"
        },
        "id": "c5UkSIrkxYrx",
        "outputId": "ea636d91-8752-4f8b-ef4f-b768f799908c"
      },
      "execution_count": 20,
      "outputs": [
        {
          "output_type": "stream",
          "name": "stdout",
          "text": [
            "1/1 [==============================] - 0s 432ms/step\n",
            "Predicted value for the 5th day: 0.00021180883049964905\n"
          ]
        }
      ]
    }
  ]
}